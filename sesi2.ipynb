{
 "cells": [
  {
   "cell_type": "code",
   "execution_count": 8,
   "metadata": {},
   "outputs": [
    {
     "name": "stdout",
     "output_type": "stream",
     "text": [
      "Hello world\n"
     ]
    }
   ],
   "source": [
    "print(\"Hello world\")"
   ]
  },
  {
   "cell_type": "markdown",
   "metadata": {},
   "source": [
    "# Numpy\n",
    "np.array -> bikin list jadi array\n",
    "np.diag -> nilai diagonalnya\n",
    "np.abs -> nilai absolute\n",
    "np.fill_diagonal -> ngisi nillai diagonal jadi value yang kira mau\n",
    "np.sum -> ngejumlahin semuanya\n",
    "np.all -> melakukan test di semua nilai\n",
    "np.zeros -> ngebikin array (np.array) yang isinya 0\n",
    "np.dot -> melakukan perkalian matrix\n",
    "np.sqrt -> akar "
   ]
  },
  {
   "cell_type": "code",
   "execution_count": 9,
   "metadata": {},
   "outputs": [],
   "source": [
    "# Import Numpy\n",
    "import numpy as np\n",
    "\n",
    "# cek diagonally dominant\n",
    "def IsDiagonallyDominant(x):\n",
    "    x = np.array(x) # ubah jadi array\n",
    "\n",
    "    diag = np.diag(np.abs(x)) # ambil nilai diagonal absolute\n",
    "\n",
    "    # axis 1 = jumlahin baris\n",
    "    # axis 0 = jumlahin kolom\n",
    "    off_diag = np.sum(np.abs(x), axis = 1) - diag # nilai off diagonal\n",
    "\n",
    "    # cek diagonally dominant\n",
    "    if np.all(diag > off_diag):\n",
    "        return True\n",
    "    else:\n",
    "        return False\n",
    "\n",
    "# gaus seidel\n",
    "def GaussSeidel(x,y, epsilon = 0.01, t = 15):\n",
    "    # check diagonally dominant\n",
    "    if not IsDiagonallyDominant(x):\n",
    "        print(\"Not Diagonally Dominant\")\n",
    "        return\n",
    "    \n",
    "    # ubah jadi array\n",
    "    x = np.array(x)\n",
    "    y = np.array(y)\n",
    "\n",
    "    # ambil nilai diagonal, nanti bakal dipake buat ngebagi\n",
    "    diag = np.diag(x)\n",
    "\n",
    "    # Negasi semua nilai\n",
    "    x = -x\n",
    "\n",
    "    # ngilangin diagonal\n",
    "    np.fill_diagonal(x,0)\n",
    "\n",
    "    # inisialisasi nilai awal\n",
    "    # x[0] -> karena ukuran dari matriz pasti sesuai sama ukuran 1 baris\n",
    "    # di bilai x\n",
    "    mtx_old = np.zeros(x[0].shape)\n",
    "\n",
    "    # mulai iterasi gaus seidel\n",
    "    for i in range(t):\n",
    "        # bikin mtx new dengan ngebuat array dari mtx old\n",
    "        mtx_new = np.array(mtx_old)\n",
    "\n",
    "        # bikin iterasi buat masing masing vaeiable\n",
    "        for idx, row in enumerate(x):\n",
    "            mtx_new[idx] = (y[idx] + np.dot(row, mtx_new)) / diag[idx] \n",
    "        \n",
    "        # print hasil iterasi\n",
    "        print (f\"iterasi ke-{i}\")\n",
    "        print(mtx_new)\n",
    "\n",
    "        # cek nilai epsilon\n",
    "        dx = np.sqrt(np.dot(mtx_new - mtx_old, mtx_new - mtx_old))\n",
    "        print(f\"dx: {dx}\")\n",
    "\n",
    "        if dx < epsilon:\n",
    "            print(\"converged\")\n",
    "            return\n",
    "        \n",
    "        mtx_old = mtx_new\n",
    "\n",
    "    print(\"Not Converged\")\n",
    "    return\n"
   ]
  },
  {
   "cell_type": "code",
   "execution_count": 10,
   "metadata": {},
   "outputs": [
    {
     "name": "stdout",
     "output_type": "stream",
     "text": [
      "iterasi ke-0\n",
      "[0.8  0.7  1.15]\n",
      "dx: 1.5660459763365826\n",
      "iterasi ke-1\n",
      "[-0.055       0.65083333  1.58569444]\n",
      "dx: 0.9608704439365717\n",
      "iterasi ke-2\n",
      "[-0.25318056  0.61124769  1.69138233]\n",
      "dx: 0.22806245930668492\n",
      "iterasi ke-3\n",
      "[-0.29019024  0.59980132  1.7117949 ]\n",
      "dx: 0.04378822902864041\n",
      "iterasi ke-4\n",
      "[-0.29581798  0.59733718  1.71501946]\n",
      "dx: 0.006938385517329205\n",
      "converged\n"
     ]
    }
   ],
   "source": [
    "Xs = [\n",
    "    [10,4,5],\n",
    "    [1,6,1],\n",
    "    [3,1,6],\n",
    "]\n",
    "\n",
    "Ys = [8,5,10]\n",
    "\n",
    "GaussSeidel(Xs, Ys)"
   ]
  }
 ],
 "metadata": {
  "kernelspec": {
   "display_name": "Python 3",
   "language": "python",
   "name": "python3"
  },
  "language_info": {
   "codemirror_mode": {
    "name": "ipython",
    "version": 3
   },
   "file_extension": ".py",
   "mimetype": "text/x-python",
   "name": "python",
   "nbconvert_exporter": "python",
   "pygments_lexer": "ipython3",
   "version": "3.13.0"
  }
 },
 "nbformat": 4,
 "nbformat_minor": 2
}
