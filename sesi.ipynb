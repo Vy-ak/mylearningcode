{
 "cells": [
  {
   "cell_type": "code",
   "execution_count": 8,
   "metadata": {},
   "outputs": [
    {
     "name": "stdout",
     "output_type": "stream",
     "text": [
      "ridwan \"halo\"\n",
      "my age is 50\n",
      "hello kamil\n",
      "aowkwkwk\n"
     ]
    }
   ],
   "source": [
    "# variable\n",
    "# Num = int, float\n",
    "# string\n",
    "# boolean = True / false\n",
    "\n",
    "num = 10\n",
    "num2 = 5.5\n",
    "age = 50\n",
    "\n",
    "sentence = \"Hello world\"\n",
    "sentence1 = 'Hello World'\n",
    "\n",
    "# string petik 2\n",
    "petik2 = 'ridwan \"halo\"'\n",
    "\n",
    "# string petik 1\n",
    "petik1 = \"ridwan 'kamil'\"\n",
    "\n",
    "# print \n",
    "print(petik2)\n",
    "print(f'my age is {age}')\n",
    "print(\"hello\", end = ' ')\n",
    "print(\"kamil\")\n",
    "\n",
    "# input\n",
    "user_input = input()\n",
    "user_input2 = input(\"type ur name: \")\n",
    "\n",
    "# typecasting\n",
    "result = 100 - int(user_input)\n",
    "\n",
    "print(user_input)\n",
    "\n",
    "#boolean\n",
    "bool = True\n",
    "bool2 = False\n",
    "\n"
   ]
  },
  {
   "cell_type": "code",
   "execution_count": null,
   "metadata": {},
   "outputs": [],
   "source": [
    "# operator\n",
    "# logic op = and or not (&& || !)\n",
    "# arithmatic = + - * / **\n",
    "# comparator = > < >= <= ==\n",
    "# assignment operator = += -+\n",
    "\n",
    "print(5**3)\n",
    "print(\"lima \"*3)\n",
    "\n",
    "# program diskon makanan untuk siswa\n",
    "# not student or >23 harga *2\n",
    "# student 12 sampe 23 diskon 50\n",
    "# siswa <12 harga 0\n",
    "\n",
    "input_age = int(input(\"insert your age\"))\n",
    "input_student = input(\"are you a student yes/no\")\n",
    "is_student = False\n",
    "\n",
    "if(input_student == 'yes'):\n",
    "    is_student = True\n",
    "\n",
    "base_price = 200\n",
    "\n",
    "# if else if else\n",
    "if( input_age > 23 or not is_student):\n",
    "    base_price *= 2\n",
    "elif 12<input_age<23 and is_student:\n",
    "    base_price -= 50\n",
    "else:\n",
    "    base_price = 0\n",
    "        \n",
    "\n",
    "print(f'Your price: {base_price}')\n",
    "    "
   ]
  },
  {
   "cell_type": "code",
   "execution_count": null,
   "metadata": {},
   "outputs": [],
   "source": [
    "# repetition\n",
    "# for loop = jalanin code di body untuk setiap elemen iterable\n",
    "# iterable = object python yang bisa nampung lebih dari 1 elemen\n",
    "# list = []\n",
    "\n",
    "numbers = [1,2,3,4,5]\n",
    "for i in numbers:\n",
    "    print(i)\n",
    "    \n",
    "\"\"\"\n",
    "    multiline comment\n",
    "\"\"\"\n",
    "\n",
    "# range() = bentuk list isi angka\n",
    "# range(start, end (exclusive), increment)\n",
    "for i in range(5):\n",
    "    print(i)\n",
    "    \n",
    "    \n",
    "# enumerate() = reutrn index\n",
    "for idx, i in enumerate(numbers):\n",
    "    print(i)\n",
    "    \n",
    "    if(idx == 2):\n",
    "        # continue\n",
    "        break\n",
    "    print(f'index: {idx}, value: {i}')"
   ]
  },
  {
   "cell_type": "code",
   "execution_count": null,
   "metadata": {},
   "outputs": [],
   "source": [
    "# while loop\n",
    "counter = 0\n",
    "while True:\n",
    "    print(counter)\n",
    "    counter += 1\n",
    "    \n",
    "    if(counter == 5):\n",
    "        break"
   ]
  },
  {
   "cell_type": "code",
   "execution_count": null,
   "metadata": {},
   "outputs": [],
   "source": [
    "# data structure\n",
    "# list, set, tuple, dictionary\n",
    "\n",
    "# list = ordered, changeable, allow duplicate\n",
    "\n",
    "# ordered\n",
    "new_list = [5,7,3,2,1,3]\n",
    "print(new_list)\n",
    "\n",
    "# changeable\n",
    "new_list[1] = 9\n",
    "print(new_list)\n",
    "\n",
    "# append\n",
    "new_list.append(10)\n",
    "print(new_list)\n",
    "\n",
    "# pop ( index based)\n",
    "new_list.pop(0)\n",
    "print(new_list)\n",
    "\n",
    "# remove ( value based)\n",
    "new_list.remove(3)\n",
    "print(new_list)\n",
    "\n",
    "# sort\n",
    "new_list.sort(reverse = True)\n",
    "print(new_list)\n",
    "\n",
    "\n",
    "\n"
   ]
  },
  {
   "cell_type": "code",
   "execution_count": null,
   "metadata": {},
   "outputs": [],
   "source": [
    "# list slicing = ambil sebagian dari list\n",
    "# namalist[star:end:increment]\n",
    "\n",
    "fruits = ['Pisang', 'Apel', 'Stroberi', 'Kiwi', 'Jeruk']\n",
    "print(fruits[2:4])\n",
    "print(fruits[::2])\n",
    "print(fruits[1:])\n",
    "print(fruits[:-1])\n",
    "print(fruits[-1:])"
   ]
  },
  {
   "cell_type": "code",
   "execution_count": null,
   "metadata": {},
   "outputs": [],
   "source": [
    "# set = unordered, unchangeable, no duplicate\n",
    "\n",
    "# unordered\n",
    "new_set = {'a','b','c','d','a'}\n",
    "print(new_set)\n",
    "\n",
    "# unchangeable\n",
    "# new_set[1] = 'e'\n",
    "\n",
    "# no duplicate\n",
    "\n",
    "\n"
   ]
  },
  {
   "cell_type": "code",
   "execution_count": null,
   "metadata": {},
   "outputs": [],
   "source": [
    "# tuple = ordered, unchageable, allow duplicate\n",
    "\n",
    "# ordered\n",
    "new_tuple = (1,2,3,2)\n",
    "print(new_tuple)\n",
    "\n",
    "# unchangeable\n",
    "# new_tuple[1] = 0"
   ]
  },
  {
   "cell_type": "code",
   "execution_count": 32,
   "metadata": {},
   "outputs": [
    {
     "name": "stdout",
     "output_type": "stream",
     "text": [
      "{'name': 'Gon', 'age': 12}\n",
      "{'name': 'Gon', 'age': 12, 'major': 'information system'}\n",
      "Gon\n",
      "{'name': 'Gon', 'age': 12}\n"
     ]
    }
   ],
   "source": [
    "# dictionary\n",
    "# key value\n",
    "\n",
    "student = {\n",
    "    \"name\": \"Gon\",\n",
    "    \"age\": 12\n",
    "}\n",
    "print(student)\n",
    "\n",
    "student[\"major\"] = \"information system\"\n",
    "\n",
    "print(student)\n",
    "print(student[\"name\"])\n",
    "\n",
    "\n",
    "# delete\n",
    "del student[\"major\"]\n",
    "print(student)"
   ]
  },
  {
   "cell_type": "code",
   "execution_count": 38,
   "metadata": {},
   "outputs": [
    {
     "name": "stdout",
     "output_type": "stream",
     "text": [
      "Hello everyone\n"
     ]
    },
    {
     "data": {
      "text/plain": [
       "100"
      ]
     },
     "execution_count": 38,
     "metadata": {},
     "output_type": "execute_result"
    }
   ],
   "source": [
    "# function\n",
    "\n",
    "def myfunction(name = \"kevin\", age = 100):\n",
    "    print('Hello everyone')\n",
    "    return age\n",
    "    print(f'my name is {name}, i am {age} years old')\n",
    "\n",
    "\n",
    "myfunction()    \n",
    "# myfunction(age = 20, name = \"Patricia\")\n",
    "    \n",
    "# myfunction(\"Patricia\", 20)"
   ]
  },
  {
   "cell_type": "code",
   "execution_count": null,
   "metadata": {},
   "outputs": [],
   "source": [
    "random_number = 100\n",
    "\n",
    "def changeVal():\n",
    "    global random_number\n",
    "    random_number = 200\n",
    "    \n",
    "changeVal()\n",
    "\n",
    "print(random_number)"
   ]
  }
 ],
 "metadata": {
  "kernelspec": {
   "display_name": "scientific_computing",
   "language": "python",
   "name": "python3"
  },
  "language_info": {
   "codemirror_mode": {
    "name": "ipython",
    "version": 3
   },
   "file_extension": ".py",
   "mimetype": "text/x-python",
   "name": "python",
   "nbconvert_exporter": "python",
   "pygments_lexer": "ipython3",
   "version": "3.12.4"
  }
 },
 "nbformat": 4,
 "nbformat_minor": 2
}
